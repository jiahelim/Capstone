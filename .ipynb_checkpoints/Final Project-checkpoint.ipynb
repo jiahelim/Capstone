{
 "cells": [
  {
   "cell_type": "markdown",
   "metadata": {},
   "source": [
    "# Introduction"
   ]
  },
  {
   "cell_type": "markdown",
   "metadata": {},
   "source": [
    "#### Business Problem"
   ]
  },
  {
   "cell_type": "markdown",
   "metadata": {},
   "source": [
    "Watering holes for great Beer often cluster together in certain areas forming up enclaves. For beer fanatics new to town it takes quite a bit of research to plan a great night out for crawling pubs as no matter how Epic the night is, often the are trade offs to be made in choosing which places to visit. By finding clusters, we could maximize Beer satisfaction for beer lovers as time spent on drunkely commuting would be reduced.\n",
    "  "
   ]
  },
  {
   "cell_type": "markdown",
   "metadata": {},
   "source": [
    "#### Audience"
   ]
  },
  {
   "cell_type": "markdown",
   "metadata": {},
   "source": [
    "Other than Beer lovers - From a business oriented view many oher audience could benefit from the same approach - tour guides/ airbnb experienece providers / hosts often would need to route plan and know which areas could maximize their client's satisfaction with the greatest convenience. Foursquare location data could help us reveal these cluster through mining the review and position data.\n",
    "   "
   ]
  },
  {
   "cell_type": "markdown",
   "metadata": {},
   "source": [
    "# Data Section"
   ]
  },
  {
   "cell_type": "markdown",
   "metadata": {},
   "source": [
    "In order to complete the aboce we would need the following\n",
    "\n",
    "- Fousquare API for searching beer places in Singapore\n",
    "- Google Maps to find lat/log coordinates"
   ]
  },
  {
   "cell_type": "code",
   "execution_count": 87,
   "metadata": {},
   "outputs": [],
   "source": [
    "import requests\n",
    "import pandas as pd\n",
    "import numpy as np"
   ]
  },
  {
   "cell_type": "code",
   "execution_count": 88,
   "metadata": {},
   "outputs": [],
   "source": [
    "clientid=\"JC4UPUS24DZLLJSVRDFFMJ3BTCUXGXBELPH53ZMIIDF04DVF\"\n",
    "clientsecret=\"AWGJ4KHC2LUDTFKVM0AXASYZTWFBULSUVI2WZEN0JISCJU1G\"\n",
    "categoryId=\"4d4b7105d754a06376d81259\"\n",
    "latnum=\"1.3521\"\n",
    "longnum=\"103.8198\"\n",
    "radiusnum=\"50000\"\n",
    "offsetnum=0"
   ]
  },
  {
   "cell_type": "code",
   "execution_count": 89,
   "metadata": {},
   "outputs": [],
   "source": [
    "def pullExplorerdata(clientid,clientsecret,latnum,longnum,radiusnum,categoryId,offsetnum):\n",
    "    explorerUrl=F\"https://api.foursquare.com/v2/venues/explore?&client_id={clientid}&client_secret={clientsecret}&ll={latnum},{longnum}&radius={radiusnum}&categoryId={categoryId}&v=20200815&limit=50&offset={offsetnum}\"\n",
    "    response = requests.get(explorerUrl)\n",
    "    return response.json()"
   ]
  },
  {
   "cell_type": "code",
   "execution_count": 90,
   "metadata": {},
   "outputs": [
    {
     "name": "stdout",
     "output_type": "stream",
     "text": [
      "50\n",
      "100\n",
      "150\n",
      "200\n"
     ]
    }
   ],
   "source": [
    "dat=pullExplorerdata(clientid,clientsecret,latnum,longnum,radiusnum,categoryId,offsetnum)\n",
    "results=[]\n",
    "items=dat[\"response\"][\"groups\"][0]['items']\n",
    "results+=items\n",
    "\n",
    "while dat['meta']['code']==200 and len(items)>0:\n",
    "    \n",
    "    offsetnum+=50\n",
    "    print(offsetnum)\n",
    "    dat=pulldata(clientid,clientsecret,latnum,longnum,radiusnum,categoryId,offsetnum)\n",
    "    items=dat[\"response\"][\"groups\"][0]['items']\n",
    "    results+=items\n"
   ]
  },
  {
   "cell_type": "code",
   "execution_count": 91,
   "metadata": {},
   "outputs": [],
   "source": [
    "df=pd.DataFrame()"
   ]
  },
  {
   "cell_type": "code",
   "execution_count": 92,
   "metadata": {},
   "outputs": [],
   "source": [
    "df['id']=[i['venue']['id'] for i in results]\n",
    "df['name']=[i['venue']['name'] for i in results]\n",
    "df['location_lat']=[i['venue']['location']['lat'] for i in results]\n",
    "df['location_lng']=[i['venue']['location']['lng'] for i in results]\n",
    "df['location_post']=[i['venue']['location']['postalCode']  if \n",
    "                        'postalCode' in i['venue']['location'].keys() else np.nan for i in results]\n",
    "df['location_address']=[i['venue']['location']['address']  if \n",
    "                        'address' in i['venue']['location'].keys() else np.nan for i in results]\n",
    "df['location_neighborhood']=[i['venue']['location']['neighborhood']  if \n",
    "                        'neighborhood' in i['venue']['location'].keys() else np.nan for i in results]\n",
    "df['location_city']=[i['venue']['location']['city']  if \n",
    "                        'city' in i['venue']['location'].keys() else np.nan for i in results]\n",
    "df['location_country']=[i['venue']['location']['country']  if \n",
    "                        'country' in i['venue']['location'].keys() else np.nan for i in results]\n",
    "df['cat_name']=[i['venue']['categories'][0]['name'] for i in results]\n",
    "df['catid']=[i['venue']['categories'][0]['id'] for i in results]"
   ]
  },
  {
   "cell_type": "code",
   "execution_count": 94,
   "metadata": {},
   "outputs": [],
   "source": [
    "def pullVenueData(venueId):\n",
    "    venueUrl=F\"https://api.foursquare.com/v2/venues/{venueid}?&client_id={clientid}&client_secret={clientsecret}&v=20200815\"\n",
    "    response = requests.get(venueUrl)\n",
    "    return response.json()"
   ]
  },
  {
   "cell_type": "code",
   "execution_count": 102,
   "metadata": {},
   "outputs": [],
   "source": [
    "df[\"fulljson\"]=df[\"id\"].apply(pullVenueData)"
   ]
  },
  {
   "cell_type": "code",
   "execution_count": null,
   "metadata": {},
   "outputs": [],
   "source": []
  }
 ],
 "metadata": {
  "kernelspec": {
   "display_name": "Python 3",
   "language": "python",
   "name": "python3"
  },
  "language_info": {
   "codemirror_mode": {
    "name": "ipython",
    "version": 3
   },
   "file_extension": ".py",
   "mimetype": "text/x-python",
   "name": "python",
   "nbconvert_exporter": "python",
   "pygments_lexer": "ipython3",
   "version": "3.8.2"
  }
 },
 "nbformat": 4,
 "nbformat_minor": 4
}
