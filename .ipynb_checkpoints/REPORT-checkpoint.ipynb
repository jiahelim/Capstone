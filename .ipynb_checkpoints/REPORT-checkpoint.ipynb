{
 "cells": [
  {
   "cell_type": "markdown",
   "metadata": {},
   "source": [
    "# 1 Introduction\n",
    "#### Business Problem\n",
    "Watering holes often cluster together in certain areas forming up enclaves. For people new to town it takes quite a bit of research to plan a great night out for crawling pubs as no matter how Epic the night is, often the are trade offs to be made in choosing which places to visit. By finding clusters, we could maximize satisfaction as time spent on drunkely commuting would be reduced.\n",
    "\n",
    "#### Audience\n",
    "Other than drink lovers - From a business oriented view many other audience could benefit from the same approach - tour guides/ airbnb experienece providers / hosts often would need to route plan and know which areas could maximize their client's satisfaction with the greatest convenience. Foursquare location data could help us reveal these cluster through mining the review and position data.\n",
    "\n",
    "We would be using Singapore as an sample for the above approach, and subset to only the best venues\n",
    "\n",
    "#### Data Section\n",
    "In order to complete the aboce we would need the following\n",
    "\n",
    "* Foursquare API - Explore Endpoint for list of venues\n",
    "* Foursquare API - Venues Endpoint for details\n",
    "* Google Maps to find inital lat/log coordinates"
   ]
  },
  {
   "cell_type": "markdown",
   "metadata": {},
   "source": [
    "# 2 Data acquisition and cleaning\n",
    "#### Data Section\n",
    "In order to complete the aboce we would need the following\n",
    "\n",
    "* Foursquare API - Explore Endpoint for list of venues\n",
    "* Foursquare API - Venues Endpoint for details\n",
    "* Google Maps to find inital lat/log coordinates\n",
    "\n",
    "We acquire the data by doing pull on  lat long latnum=\"1.3521\" longnum=\"103.8198\" representing the center of Singapore with a radius of 50000 to cover all areas.\n",
    "\n",
    "\n",
    "#### Data Cleaning\n",
    "\n",
    "The data is sub set to singapore only.\n",
    "One issue was at times the API would time our resulting in status codes other than 200.\n",
    "This is examined and reruns are done to over come the issue.\n",
    "The data is downloaded and pandas was used to transform and extract details from the json"
   ]
  },
  {
   "cell_type": "markdown",
   "metadata": {},
   "source": [
    "# 3 Exploratory Data Analysis"
   ]
  },
  {
   "cell_type": "markdown",
   "metadata": {},
   "source": [
    "We explore the score of each venue to determine what is a good cut off point for \"best\". This is done through boxplots and histograms\n",
    "\n",
    "Each venue is scored against a scale of 1-10. \n",
    "The median score is at 8.1 and from the histogram, 8.6 and above probably returns a superior experience from an average venue"
   ]
  },
  {
   "cell_type": "markdown",
   "metadata": {},
   "source": [
    "<img src=\"box1.png\">"
   ]
  },
  {
   "cell_type": "markdown",
   "metadata": {},
   "source": [
    "<img src=\"hist1.png\">"
   ]
  },
  {
   "cell_type": "markdown",
   "metadata": {},
   "source": [
    "#### Exploratory data analysis: Likes Distribution\n",
    "\n",
    "In terms of likes - this is more extreme: Majority of the venues have less than 50 likes. "
   ]
  },
  {
   "cell_type": "markdown",
   "metadata": {},
   "source": [
    "<img src=\"box2.png\">"
   ]
  },
  {
   "cell_type": "markdown",
   "metadata": {},
   "source": [
    "<img src=\"hist2.png\">"
   ]
  },
  {
   "cell_type": "code",
   "execution_count": null,
   "metadata": {},
   "outputs": [],
   "source": []
  }
 ],
 "metadata": {
  "kernelspec": {
   "display_name": "Python 3",
   "language": "python",
   "name": "python3"
  },
  "language_info": {
   "codemirror_mode": {
    "name": "ipython",
    "version": 3
   },
   "file_extension": ".py",
   "mimetype": "text/x-python",
   "name": "python",
   "nbconvert_exporter": "python",
   "pygments_lexer": "ipython3",
   "version": "3.8.2"
  }
 },
 "nbformat": 4,
 "nbformat_minor": 4
}
