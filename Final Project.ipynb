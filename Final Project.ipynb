{
 "cells": [
  {
   "cell_type": "markdown",
   "metadata": {},
   "source": [
    "# Introduction"
   ]
  },
  {
   "cell_type": "markdown",
   "metadata": {},
   "source": [
    "#### Business Problem"
   ]
  },
  {
   "cell_type": "markdown",
   "metadata": {},
   "source": [
    "Watering holes for great Beer often cluster together in certain areas forming up enclaves. For beer fanatics new to town it takes quite a bit of research to plan a great night out for crawling pubs as no matter how Epic the night is, often the are trade offs to be made in choosing which places to visit. By finding clusters, we could maximize Beer satisfaction for beer lovers as time spent on drunkely commuting would be reduced.\n",
    "  "
   ]
  },
  {
   "cell_type": "markdown",
   "metadata": {},
   "source": [
    "#### Audience"
   ]
  },
  {
   "cell_type": "markdown",
   "metadata": {},
   "source": [
    "Other than Beer lovers - From a business oriented view many other audience could benefit from the same approach - tour guides/ airbnb experienece providers / hosts often would need to route plan and know which areas could maximize their client's satisfaction with the greatest convenience. Foursquare location data could help us reveal these cluster through mining the review and position data.\n",
    "   \n",
    "   \n",
    "We would be using Singapore as an sample for the above approach  "
   ]
  },
  {
   "cell_type": "markdown",
   "metadata": {},
   "source": [
    "# Data Section"
   ]
  },
  {
   "cell_type": "markdown",
   "metadata": {},
   "source": [
    "In order to complete the aboce we would need the following\n",
    "\n",
    "- Foursquare API - Explore Endpoint for list of venues\n",
    "- Foursquare API - Venues Endpoint for details\n",
    "- Google Maps to find inital lat/log coordinates"
   ]
  },
  {
   "cell_type": "code",
   "execution_count": 104,
   "metadata": {},
   "outputs": [],
   "source": [
    "import requests\n",
    "import pandas as pd\n",
    "import numpy as np"
   ]
  },
  {
   "cell_type": "code",
   "execution_count": 88,
   "metadata": {},
   "outputs": [],
   "source": [
    "\n",
    "categoryId=\"4d4b7105d754a06376d81259\"\n",
    "latnum=\"1.3521\"\n",
    "longnum=\"103.8198\"\n",
    "radiusnum=\"50000\"\n",
    "offsetnum=0"
   ]
  },
  {
   "cell_type": "code",
   "execution_count": 89,
   "metadata": {},
   "outputs": [],
   "source": [
    "def pullExplorerdata(clientid,clientsecret,latnum,longnum,radiusnum,categoryId,offsetnum):\n",
    "    explorerUrl=F\"https://api.foursquare.com/v2/venues/explore?&client_id={clientid}&client_secret={clientsecret}&ll={latnum},{longnum}&radius={radiusnum}&categoryId={categoryId}&v=20200815&limit=50&offset={offsetnum}\"\n",
    "    response = requests.get(explorerUrl)\n",
    "    return response.json()"
   ]
  },
  {
   "cell_type": "code",
   "execution_count": 90,
   "metadata": {},
   "outputs": [
    {
     "name": "stdout",
     "output_type": "stream",
     "text": [
      "50\n",
      "100\n",
      "150\n",
      "200\n"
     ]
    }
   ],
   "source": [
    "dat=pullExplorerdata(clientid,clientsecret,latnum,longnum,radiusnum,categoryId,offsetnum)\n",
    "results=[]\n",
    "items=dat[\"response\"][\"groups\"][0]['items']\n",
    "results+=items\n",
    "\n",
    "while dat['meta']['code']==200 and len(items)>0:\n",
    "    \n",
    "    offsetnum+=50\n",
    "    print(offsetnum)\n",
    "    dat=pulldata(clientid,clientsecret,latnum,longnum,radiusnum,categoryId,offsetnum)\n",
    "    items=dat[\"response\"][\"groups\"][0]['items']\n",
    "    results+=items\n"
   ]
  },
  {
   "cell_type": "code",
   "execution_count": 91,
   "metadata": {},
   "outputs": [],
   "source": [
    "df=pd.DataFrame()"
   ]
  },
  {
   "cell_type": "code",
   "execution_count": 92,
   "metadata": {},
   "outputs": [],
   "source": [
    "df['id']=[i['venue']['id'] for i in results]\n",
    "df['name']=[i['venue']['name'] for i in results]\n",
    "df['location_lat']=[i['venue']['location']['lat'] for i in results]\n",
    "df['location_lng']=[i['venue']['location']['lng'] for i in results]\n",
    "df['location_post']=[i['venue']['location']['postalCode']  if \n",
    "                        'postalCode' in i['venue']['location'].keys() else np.nan for i in results]\n",
    "df['location_address']=[i['venue']['location']['address']  if \n",
    "                        'address' in i['venue']['location'].keys() else np.nan for i in results]\n",
    "df['location_neighborhood']=[i['venue']['location']['neighborhood']  if \n",
    "                        'neighborhood' in i['venue']['location'].keys() else np.nan for i in results]\n",
    "df['location_city']=[i['venue']['location']['city']  if \n",
    "                        'city' in i['venue']['location'].keys() else np.nan for i in results]\n",
    "df['location_country']=[i['venue']['location']['country']  if \n",
    "                        'country' in i['venue']['location'].keys() else np.nan for i in results]\n",
    "df['cat_name']=[i['venue']['categories'][0]['name'] for i in results]\n",
    "df['catid']=[i['venue']['categories'][0]['id'] for i in results]"
   ]
  },
  {
   "cell_type": "code",
   "execution_count": 94,
   "metadata": {},
   "outputs": [],
   "source": [
    "def pullVenueData(venueId):\n",
    "    venueUrl=F\"https://api.foursquare.com/v2/venues/{venueid}?&client_id={clientid}&client_secret={clientsecret}&v=20200815\"\n",
    "    response = requests.get(venueUrl)\n",
    "    return response.json()"
   ]
  },
  {
   "cell_type": "code",
   "execution_count": 102,
   "metadata": {},
   "outputs": [],
   "source": [
    "df[\"fulljson\"]=df[\"id\"].apply(pullVenueData)"
   ]
  },
  {
   "cell_type": "code",
   "execution_count": 105,
   "metadata": {},
   "outputs": [
    {
     "data": {
      "text/html": [
       "<div>\n",
       "<style scoped>\n",
       "    .dataframe tbody tr th:only-of-type {\n",
       "        vertical-align: middle;\n",
       "    }\n",
       "\n",
       "    .dataframe tbody tr th {\n",
       "        vertical-align: top;\n",
       "    }\n",
       "\n",
       "    .dataframe thead th {\n",
       "        text-align: right;\n",
       "    }\n",
       "</style>\n",
       "<table border=\"1\" class=\"dataframe\">\n",
       "  <thead>\n",
       "    <tr style=\"text-align: right;\">\n",
       "      <th></th>\n",
       "      <th>id</th>\n",
       "      <th>name</th>\n",
       "      <th>location_lat</th>\n",
       "      <th>location_lng</th>\n",
       "      <th>location_post</th>\n",
       "      <th>location_address</th>\n",
       "      <th>location_neighborhood</th>\n",
       "      <th>location_city</th>\n",
       "      <th>location_country</th>\n",
       "      <th>cat_name</th>\n",
       "      <th>catid</th>\n",
       "      <th>fulljson</th>\n",
       "    </tr>\n",
       "  </thead>\n",
       "  <tbody>\n",
       "    <tr>\n",
       "      <th>0</th>\n",
       "      <td>576a9b71498ed1ba6321e4ff</td>\n",
       "      <td>The Other Room</td>\n",
       "      <td>1.305297</td>\n",
       "      <td>103.832860</td>\n",
       "      <td>238865</td>\n",
       "      <td>Level 1, Marriott Tangs</td>\n",
       "      <td>NaN</td>\n",
       "      <td>Singapore</td>\n",
       "      <td>Singapore</td>\n",
       "      <td>Speakeasy</td>\n",
       "      <td>4bf58dd8d48988d1d4941735</td>\n",
       "      <td>{'meta': {'code': 200, 'requestId': '5f394b661...</td>\n",
       "    </tr>\n",
       "    <tr>\n",
       "      <th>1</th>\n",
       "      <td>535083f7498e3044869bb48f</td>\n",
       "      <td>Manhattan</td>\n",
       "      <td>1.304911</td>\n",
       "      <td>103.825368</td>\n",
       "      <td>249715</td>\n",
       "      <td>2/F Regent Singapore</td>\n",
       "      <td>NaN</td>\n",
       "      <td>Singapore</td>\n",
       "      <td>Singapore</td>\n",
       "      <td>Cocktail Bar</td>\n",
       "      <td>4bf58dd8d48988d11e941735</td>\n",
       "      <td>{'meta': {'code': 429, 'errorType': 'quota_exc...</td>\n",
       "    </tr>\n",
       "    <tr>\n",
       "      <th>2</th>\n",
       "      <td>585a1ef68ee5606a98d90f21</td>\n",
       "      <td>ATLAS Bar</td>\n",
       "      <td>1.299965</td>\n",
       "      <td>103.857768</td>\n",
       "      <td>188778</td>\n",
       "      <td>600 North Bridge Road</td>\n",
       "      <td>Downtown Core</td>\n",
       "      <td>Singapore</td>\n",
       "      <td>Singapore</td>\n",
       "      <td>Cocktail Bar</td>\n",
       "      <td>4bf58dd8d48988d11e941735</td>\n",
       "      <td>{'meta': {'code': 429, 'errorType': 'quota_exc...</td>\n",
       "    </tr>\n",
       "    <tr>\n",
       "      <th>3</th>\n",
       "      <td>5bebc7963af98823a52cc62e</td>\n",
       "      <td>Whiskey Library @ The Vagabond Club</td>\n",
       "      <td>1.306981</td>\n",
       "      <td>103.858309</td>\n",
       "      <td>207630</td>\n",
       "      <td>39 Syed Alwi Road</td>\n",
       "      <td>NaN</td>\n",
       "      <td>Singapore</td>\n",
       "      <td>Singapore</td>\n",
       "      <td>Whisky Bar</td>\n",
       "      <td>4bf58dd8d48988d122941735</td>\n",
       "      <td>{'meta': {'code': 429, 'errorType': 'quota_exc...</td>\n",
       "    </tr>\n",
       "    <tr>\n",
       "      <th>4</th>\n",
       "      <td>51b49e49abd88dd0b4e7330f</td>\n",
       "      <td>Napoleon Food &amp; Wine Bar</td>\n",
       "      <td>1.279925</td>\n",
       "      <td>103.847333</td>\n",
       "      <td>068641</td>\n",
       "      <td>206 Telok Ayer Street</td>\n",
       "      <td>Tanjong Pagar</td>\n",
       "      <td>Singapore</td>\n",
       "      <td>Singapore</td>\n",
       "      <td>Wine Bar</td>\n",
       "      <td>4bf58dd8d48988d123941735</td>\n",
       "      <td>{'meta': {'code': 429, 'errorType': 'quota_exc...</td>\n",
       "    </tr>\n",
       "    <tr>\n",
       "      <th>...</th>\n",
       "      <td>...</td>\n",
       "      <td>...</td>\n",
       "      <td>...</td>\n",
       "      <td>...</td>\n",
       "      <td>...</td>\n",
       "      <td>...</td>\n",
       "      <td>...</td>\n",
       "      <td>...</td>\n",
       "      <td>...</td>\n",
       "      <td>...</td>\n",
       "      <td>...</td>\n",
       "      <td>...</td>\n",
       "    </tr>\n",
       "    <tr>\n",
       "      <th>174</th>\n",
       "      <td>4cebaa9ce888f04d7772536b</td>\n",
       "      <td>Pasar Malam Taman Manis</td>\n",
       "      <td>1.681213</td>\n",
       "      <td>103.523741</td>\n",
       "      <td>NaN</td>\n",
       "      <td>NaN</td>\n",
       "      <td>NaN</td>\n",
       "      <td>NaN</td>\n",
       "      <td>Malaysia</td>\n",
       "      <td>Brewery</td>\n",
       "      <td>50327c8591d4c4b30a586d5d</td>\n",
       "      <td>{'meta': {'code': 429, 'errorType': 'quota_exc...</td>\n",
       "    </tr>\n",
       "    <tr>\n",
       "      <th>175</th>\n",
       "      <td>4d2877026e27a14340371a24</td>\n",
       "      <td>Show Box</td>\n",
       "      <td>1.483623</td>\n",
       "      <td>103.390808</td>\n",
       "      <td>NaN</td>\n",
       "      <td>NaN</td>\n",
       "      <td>NaN</td>\n",
       "      <td>Pontian Kechil</td>\n",
       "      <td>Malaysia</td>\n",
       "      <td>Karaoke Bar</td>\n",
       "      <td>4bf58dd8d48988d120941735</td>\n",
       "      <td>{'meta': {'code': 429, 'errorType': 'quota_exc...</td>\n",
       "    </tr>\n",
       "    <tr>\n",
       "      <th>176</th>\n",
       "      <td>4e6db6a9b9932d7f639f8329</td>\n",
       "      <td>WAN LOONG 萬隆酒店</td>\n",
       "      <td>1.479474</td>\n",
       "      <td>103.388832</td>\n",
       "      <td>NaN</td>\n",
       "      <td>NaN</td>\n",
       "      <td>NaN</td>\n",
       "      <td>NaN</td>\n",
       "      <td>Malaysia</td>\n",
       "      <td>Speakeasy</td>\n",
       "      <td>4bf58dd8d48988d1d4941735</td>\n",
       "      <td>{'meta': {'code': 429, 'errorType': 'quota_exc...</td>\n",
       "    </tr>\n",
       "    <tr>\n",
       "      <th>177</th>\n",
       "      <td>4e2fc79c1f6ed9df90234eb8</td>\n",
       "      <td>Showbox Karaoke</td>\n",
       "      <td>1.486391</td>\n",
       "      <td>103.390710</td>\n",
       "      <td>NaN</td>\n",
       "      <td>pontian,johor</td>\n",
       "      <td>NaN</td>\n",
       "      <td>Pontian Kechil</td>\n",
       "      <td>Malaysia</td>\n",
       "      <td>Karaoke Bar</td>\n",
       "      <td>4bf58dd8d48988d120941735</td>\n",
       "      <td>{'meta': {'code': 429, 'errorType': 'quota_exc...</td>\n",
       "    </tr>\n",
       "    <tr>\n",
       "      <th>178</th>\n",
       "      <td>4f641c24e4b04d4b154c1ff8</td>\n",
       "      <td>CoolBlog</td>\n",
       "      <td>1.480550</td>\n",
       "      <td>103.388503</td>\n",
       "      <td>82000</td>\n",
       "      <td>Jalan Delima 4, Pusat Perdagangan Pontian, 820...</td>\n",
       "      <td>NaN</td>\n",
       "      <td>Pontian Besar</td>\n",
       "      <td>Malaysia</td>\n",
       "      <td>Café</td>\n",
       "      <td>4bf58dd8d48988d16d941735</td>\n",
       "      <td>{'meta': {'code': 429, 'errorType': 'quota_exc...</td>\n",
       "    </tr>\n",
       "  </tbody>\n",
       "</table>\n",
       "<p>179 rows × 12 columns</p>\n",
       "</div>"
      ],
      "text/plain": [
       "                           id                                 name  \\\n",
       "0    576a9b71498ed1ba6321e4ff                       The Other Room   \n",
       "1    535083f7498e3044869bb48f                            Manhattan   \n",
       "2    585a1ef68ee5606a98d90f21                            ATLAS Bar   \n",
       "3    5bebc7963af98823a52cc62e  Whiskey Library @ The Vagabond Club   \n",
       "4    51b49e49abd88dd0b4e7330f             Napoleon Food & Wine Bar   \n",
       "..                        ...                                  ...   \n",
       "174  4cebaa9ce888f04d7772536b              Pasar Malam Taman Manis   \n",
       "175  4d2877026e27a14340371a24                             Show Box   \n",
       "176  4e6db6a9b9932d7f639f8329                       WAN LOONG 萬隆酒店   \n",
       "177  4e2fc79c1f6ed9df90234eb8                      Showbox Karaoke   \n",
       "178  4f641c24e4b04d4b154c1ff8                             CoolBlog   \n",
       "\n",
       "     location_lat  location_lng location_post  \\\n",
       "0        1.305297    103.832860        238865   \n",
       "1        1.304911    103.825368        249715   \n",
       "2        1.299965    103.857768        188778   \n",
       "3        1.306981    103.858309        207630   \n",
       "4        1.279925    103.847333        068641   \n",
       "..            ...           ...           ...   \n",
       "174      1.681213    103.523741           NaN   \n",
       "175      1.483623    103.390808           NaN   \n",
       "176      1.479474    103.388832           NaN   \n",
       "177      1.486391    103.390710           NaN   \n",
       "178      1.480550    103.388503         82000   \n",
       "\n",
       "                                      location_address location_neighborhood  \\\n",
       "0                              Level 1, Marriott Tangs                   NaN   \n",
       "1                                 2/F Regent Singapore                   NaN   \n",
       "2                                600 North Bridge Road         Downtown Core   \n",
       "3                                    39 Syed Alwi Road                   NaN   \n",
       "4                                206 Telok Ayer Street         Tanjong Pagar   \n",
       "..                                                 ...                   ...   \n",
       "174                                                NaN                   NaN   \n",
       "175                                                NaN                   NaN   \n",
       "176                                                NaN                   NaN   \n",
       "177                                      pontian,johor                   NaN   \n",
       "178  Jalan Delima 4, Pusat Perdagangan Pontian, 820...                   NaN   \n",
       "\n",
       "      location_city location_country      cat_name                     catid  \\\n",
       "0         Singapore        Singapore     Speakeasy  4bf58dd8d48988d1d4941735   \n",
       "1         Singapore        Singapore  Cocktail Bar  4bf58dd8d48988d11e941735   \n",
       "2         Singapore        Singapore  Cocktail Bar  4bf58dd8d48988d11e941735   \n",
       "3         Singapore        Singapore    Whisky Bar  4bf58dd8d48988d122941735   \n",
       "4         Singapore        Singapore      Wine Bar  4bf58dd8d48988d123941735   \n",
       "..              ...              ...           ...                       ...   \n",
       "174             NaN         Malaysia       Brewery  50327c8591d4c4b30a586d5d   \n",
       "175  Pontian Kechil         Malaysia   Karaoke Bar  4bf58dd8d48988d120941735   \n",
       "176             NaN         Malaysia     Speakeasy  4bf58dd8d48988d1d4941735   \n",
       "177  Pontian Kechil         Malaysia   Karaoke Bar  4bf58dd8d48988d120941735   \n",
       "178   Pontian Besar         Malaysia          Café  4bf58dd8d48988d16d941735   \n",
       "\n",
       "                                              fulljson  \n",
       "0    {'meta': {'code': 200, 'requestId': '5f394b661...  \n",
       "1    {'meta': {'code': 429, 'errorType': 'quota_exc...  \n",
       "2    {'meta': {'code': 429, 'errorType': 'quota_exc...  \n",
       "3    {'meta': {'code': 429, 'errorType': 'quota_exc...  \n",
       "4    {'meta': {'code': 429, 'errorType': 'quota_exc...  \n",
       "..                                                 ...  \n",
       "174  {'meta': {'code': 429, 'errorType': 'quota_exc...  \n",
       "175  {'meta': {'code': 429, 'errorType': 'quota_exc...  \n",
       "176  {'meta': {'code': 429, 'errorType': 'quota_exc...  \n",
       "177  {'meta': {'code': 429, 'errorType': 'quota_exc...  \n",
       "178  {'meta': {'code': 429, 'errorType': 'quota_exc...  \n",
       "\n",
       "[179 rows x 12 columns]"
      ]
     },
     "execution_count": 105,
     "metadata": {},
     "output_type": "execute_result"
    }
   ],
   "source": [
    "df"
   ]
  },
  {
   "cell_type": "code",
   "execution_count": 144,
   "metadata": {},
   "outputs": [],
   "source": [
    "import folium\n",
    "m = folium.Map(location=[latnum, longnum], zoom_start=11.5)\n"
   ]
  },
  {
   "cell_type": "code",
   "execution_count": 139,
   "metadata": {},
   "outputs": [],
   "source": [
    "latlong=[list(a) for a in zip(df[\"location_lat\"],df[\"location_lng\"]) ]"
   ]
  },
  {
   "cell_type": "code",
   "execution_count": 142,
   "metadata": {},
   "outputs": [],
   "source": [
    "for i in latlong:\n",
    "\n",
    "    folium.Marker(\n",
    "        location=i\n",
    "    ).add_to(m)"
   ]
  },
  {
   "cell_type": "code",
   "execution_count": 143,
   "metadata": {},
   "outputs": [
    {
     "data": {
      "text/html": [
       "<div style=\"width:100%;\"><div style=\"position:relative;width:100%;height:0;padding-bottom:60%;\"><span style=\"color:#565656\">Make this Notebook Trusted to load map: File -> Trust Notebook</span><iframe src=\"about:blank\" style=\"position:absolute;width:100%;height:100%;left:0;top:0;border:none !important;\" data-html=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 onload=\"this.contentDocument.open();this.contentDocument.write(atob(this.getAttribute('data-html')));this.contentDocument.close();\" allowfullscreen webkitallowfullscreen mozallowfullscreen></iframe></div></div>"
      ],
      "text/plain": [
       "<folium.folium.Map at 0x19cf7c247c0>"
      ]
     },
     "execution_count": 143,
     "metadata": {},
     "output_type": "execute_result"
    }
   ],
   "source": [
    "m"
   ]
  },
  {
   "cell_type": "code",
   "execution_count": null,
   "metadata": {},
   "outputs": [],
   "source": []
  }
 ],
 "metadata": {
  "kernelspec": {
   "display_name": "Python 3",
   "language": "python",
   "name": "python3"
  },
  "language_info": {
   "codemirror_mode": {
    "name": "ipython",
    "version": 3
   },
   "file_extension": ".py",
   "mimetype": "text/x-python",
   "name": "python",
   "nbconvert_exporter": "python",
   "pygments_lexer": "ipython3",
   "version": "3.8.2"
  }
 },
 "nbformat": 4,
 "nbformat_minor": 4
}
