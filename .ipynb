{
 "cells": [
  {
   "cell_type": "markdown",
   "metadata": {},
   "source": [
    "# Introduction"
   ]
  },
  {
   "cell_type": "markdown",
   "metadata": {},
   "source": [
    "#### Business Problem"
   ]
  },
  {
   "cell_type": "markdown",
   "metadata": {},
   "source": [
    "Watering holes for great Beer often cluster together in certain areas forming up enclaves. For beer fanatics new to town it takes quite a bit of research to plan a great night out for crawling pubs as no matter how Epic the night is, often the are trade offs to be made in choosing which places to visit. By finding clusters, we could maximize Beer satisfaction for beer lovers as time spent on drunkely commuting would be reduced.\n",
    "  "
   ]
  },
  {
   "cell_type": "markdown",
   "metadata": {},
   "source": [
    "#### Audience"
   ]
  },
  {
   "cell_type": "markdown",
   "metadata": {},
   "source": [
    "Other than Beer lovers - From a business oriented view many oher audience could benefit from the same approach - tour guides/ airbnb experienece providers / hosts often would need to route plan and know which areas could maximize their client's satisfaction with the greatest convenience. Foursquare location data could help us reveal these cluster through mining the review and position data.\n",
    "   "
   ]
  },
  {
   "cell_type": "markdown",
   "metadata": {},
   "source": [
    "# Data Section"
   ]
  },
  {
   "cell_type": "markdown",
   "metadata": {},
   "source": [
    "In order to complete the aboce we would need the following\n",
    "\n",
    "- Fousquare API for searching beer places in Singapore\n",
    "- Google Maps to find lat/log coordinates"
   ]
  },
  {
   "cell_type": "code",
   "execution_count": 1,
   "metadata": {},
   "outputs": [],
   "source": [
    "clientid=\"JC4UPUS24DZLLJSVRDFFMJ3BTCUXGXBELPH53ZMIIDF04DVF\",\n",
    "clientsecret=\"AWGJ4KHC2LUDTFKVM0AXASYZTWFBULSUVI2WZEN0JISCJU1G\",\n",
    "categoryId=\"4d4b7105d754a06374d81259\",\n",
    "categoryId=\"4d4b7105d754a06376d81259\",\n",
    "latnum=\"1.3521\",\n",
    "longnum=\"103.8198\",\n",
    "radiusnum=\"50000\",\n",
    "offsetnum=0"
   ]
  },
  {
   "cell_type": "code",
   "execution_count": null,
   "metadata": {},
   "outputs": [],
   "source": []
  }
 ],
 "metadata": {
  "kernelspec": {
   "display_name": "Python 3",
   "language": "python",
   "name": "python3"
  },
  "language_info": {
   "codemirror_mode": {
    "name": "ipython",
    "version": 3
   },
   "file_extension": ".py",
   "mimetype": "text/x-python",
   "name": "python",
   "nbconvert_exporter": "python",
   "pygments_lexer": "ipython3",
   "version": "3.8.2"
  }
 },
 "nbformat": 4,
 "nbformat_minor": 4
}
